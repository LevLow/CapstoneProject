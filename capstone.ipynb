{
 "cells": [
  {
   "cell_type": "markdown",
   "metadata": {},
   "source": [
    "# Capstone Project OECD Cancer Data and Machine Learning"
   ]
  },
  {
   "cell_type": "markdown",
   "metadata": {},
   "source": [
    "### Import Necessary Libraries"
   ]
  },
  {
   "cell_type": "code",
   "execution_count": 3,
   "metadata": {},
   "outputs": [],
   "source": [
    "import pandas as pd\n",
    "import numpy as np"
   ]
  },
  {
   "cell_type": "markdown",
   "metadata": {},
   "source": [
    "### Read CSV and Determine Column Names for Cleaning"
   ]
  },
  {
   "cell_type": "code",
   "execution_count": 8,
   "metadata": {},
   "outputs": [
    {
     "name": "stdout",
     "output_type": "stream",
     "text": [
      "Index(['STRUCTURE', 'STRUCTURE_ID', 'STRUCTURE_NAME', 'ACTION', 'REF_AREA',\n",
      "       'Reference area', 'FREQ', 'Frequency of observation', 'MEASURE',\n",
      "       'Measure', 'UNIT_MEASURE', 'Unit of measure', 'AGE', 'Age', 'SEX',\n",
      "       'Sex', 'SOCIO_ECON_STATUS', 'Socio-economic status', 'DEATH_CAUSE',\n",
      "       'Cause of death', 'CALC_METHODOLOGY', 'Calculation methodology',\n",
      "       'GESTATION_THRESHOLD', 'Gestation period threshold', 'HEALTH_STATUS',\n",
      "       'Health status', 'DISEASE', 'Disease', 'CANCER_SITE', 'Cancer site',\n",
      "       'TIME_PERIOD', 'Time period', 'OBS_VALUE', 'Observation value',\n",
      "       'DECIMALS', 'Decimals', 'OBS_STATUS', 'Observation status',\n",
      "       'OBS_STATUS2', 'Observation status 2', 'OBS_STATUS3',\n",
      "       'Observation status 3', 'UNIT_MULT', 'Unit multiplier'],\n",
      "      dtype='object')\n"
     ]
    }
   ],
   "source": [
    "OECD = pd.read_csv('OECDHEALTHDATA.csv')\n",
    "\n",
    "print(OECD.columns)"
   ]
  },
  {
   "cell_type": "markdown",
   "metadata": {},
   "source": [
    "### Drop unecessary columns"
   ]
  },
  {
   "cell_type": "code",
   "execution_count": 12,
   "metadata": {},
   "outputs": [
    {
     "data": {
      "text/html": [
       "<div>\n",
       "<style scoped>\n",
       "    .dataframe tbody tr th:only-of-type {\n",
       "        vertical-align: middle;\n",
       "    }\n",
       "\n",
       "    .dataframe tbody tr th {\n",
       "        vertical-align: top;\n",
       "    }\n",
       "\n",
       "    .dataframe thead th {\n",
       "        text-align: right;\n",
       "    }\n",
       "</style>\n",
       "<table border=\"1\" class=\"dataframe\">\n",
       "  <thead>\n",
       "    <tr style=\"text-align: right;\">\n",
       "      <th></th>\n",
       "      <th>Reference area</th>\n",
       "      <th>Sex</th>\n",
       "      <th>Cancer site</th>\n",
       "      <th>TIME_PERIOD</th>\n",
       "      <th>OBS_VALUE</th>\n",
       "    </tr>\n",
       "  </thead>\n",
       "  <tbody>\n",
       "    <tr>\n",
       "      <th>0</th>\n",
       "      <td>Slovak Republic</td>\n",
       "      <td>Female</td>\n",
       "      <td>Malignant neoplasms of female breast</td>\n",
       "      <td>2002</td>\n",
       "      <td>48.0</td>\n",
       "    </tr>\n",
       "    <tr>\n",
       "      <th>1</th>\n",
       "      <td>Slovak Republic</td>\n",
       "      <td>Female</td>\n",
       "      <td>Malignant neoplasms of female breast</td>\n",
       "      <td>2008</td>\n",
       "      <td>53.4</td>\n",
       "    </tr>\n",
       "    <tr>\n",
       "      <th>2</th>\n",
       "      <td>Slovak Republic</td>\n",
       "      <td>Female</td>\n",
       "      <td>Malignant neoplasms of female breast</td>\n",
       "      <td>2012</td>\n",
       "      <td>57.5</td>\n",
       "    </tr>\n",
       "    <tr>\n",
       "      <th>3</th>\n",
       "      <td>Iceland</td>\n",
       "      <td>Male</td>\n",
       "      <td>Malignant neoplasms of trachea, bronchus, lung</td>\n",
       "      <td>2002</td>\n",
       "      <td>30.0</td>\n",
       "    </tr>\n",
       "    <tr>\n",
       "      <th>4</th>\n",
       "      <td>Iceland</td>\n",
       "      <td>Male</td>\n",
       "      <td>Malignant neoplasms of trachea, bronchus, lung</td>\n",
       "      <td>2008</td>\n",
       "      <td>29.3</td>\n",
       "    </tr>\n",
       "    <tr>\n",
       "      <th>5</th>\n",
       "      <td>Iceland</td>\n",
       "      <td>Male</td>\n",
       "      <td>Malignant neoplasms of trachea, bronchus, lung</td>\n",
       "      <td>2012</td>\n",
       "      <td>31.0</td>\n",
       "    </tr>\n",
       "    <tr>\n",
       "      <th>6</th>\n",
       "      <td>Sweden</td>\n",
       "      <td>Female</td>\n",
       "      <td>Malignant neoplasms of female breast</td>\n",
       "      <td>2000</td>\n",
       "      <td>81.0</td>\n",
       "    </tr>\n",
       "    <tr>\n",
       "      <th>7</th>\n",
       "      <td>Sweden</td>\n",
       "      <td>Female</td>\n",
       "      <td>Malignant neoplasms of female breast</td>\n",
       "      <td>2002</td>\n",
       "      <td>87.8</td>\n",
       "    </tr>\n",
       "    <tr>\n",
       "      <th>8</th>\n",
       "      <td>Sweden</td>\n",
       "      <td>Female</td>\n",
       "      <td>Malignant neoplasms of female breast</td>\n",
       "      <td>2008</td>\n",
       "      <td>82.7</td>\n",
       "    </tr>\n",
       "    <tr>\n",
       "      <th>9</th>\n",
       "      <td>Sweden</td>\n",
       "      <td>Female</td>\n",
       "      <td>Malignant neoplasms of female breast</td>\n",
       "      <td>2012</td>\n",
       "      <td>80.4</td>\n",
       "    </tr>\n",
       "  </tbody>\n",
       "</table>\n",
       "</div>"
      ],
      "text/plain": [
       "    Reference area     Sex                                     Cancer site  \\\n",
       "0  Slovak Republic  Female            Malignant neoplasms of female breast   \n",
       "1  Slovak Republic  Female            Malignant neoplasms of female breast   \n",
       "2  Slovak Republic  Female            Malignant neoplasms of female breast   \n",
       "3          Iceland    Male  Malignant neoplasms of trachea, bronchus, lung   \n",
       "4          Iceland    Male  Malignant neoplasms of trachea, bronchus, lung   \n",
       "5          Iceland    Male  Malignant neoplasms of trachea, bronchus, lung   \n",
       "6           Sweden  Female            Malignant neoplasms of female breast   \n",
       "7           Sweden  Female            Malignant neoplasms of female breast   \n",
       "8           Sweden  Female            Malignant neoplasms of female breast   \n",
       "9           Sweden  Female            Malignant neoplasms of female breast   \n",
       "\n",
       "   TIME_PERIOD  OBS_VALUE  \n",
       "0         2002       48.0  \n",
       "1         2008       53.4  \n",
       "2         2012       57.5  \n",
       "3         2002       30.0  \n",
       "4         2008       29.3  \n",
       "5         2012       31.0  \n",
       "6         2000       81.0  \n",
       "7         2002       87.8  \n",
       "8         2008       82.7  \n",
       "9         2012       80.4  "
      ]
     },
     "execution_count": 12,
     "metadata": {},
     "output_type": "execute_result"
    }
   ],
   "source": [
    "\n",
    "OECD_cleaned = OECD.drop(['STRUCTURE', 'STRUCTURE_ID', 'STRUCTURE_NAME', 'ACTION', 'REF_AREA', 'FREQ', 'Frequency of observation', 'MEASURE',\n",
    "       'Measure', 'UNIT_MEASURE', 'Unit of measure', 'AGE', 'Age', 'SEX', 'SOCIO_ECON_STATUS', 'Socio-economic status', 'DEATH_CAUSE',\n",
    "       'Cause of death', 'CALC_METHODOLOGY', 'Calculation methodology',\n",
    "       'GESTATION_THRESHOLD', 'Gestation period threshold', 'HEALTH_STATUS',\n",
    "       'Health status', 'DISEASE', 'Disease', 'CANCER_SITE','Time period', 'Observation value',\n",
    "       'DECIMALS', 'Decimals', 'OBS_STATUS', 'Observation status',\n",
    "       'OBS_STATUS2', 'Observation status 2', 'OBS_STATUS3',\n",
    "       'Observation status 3', 'UNIT_MULT', 'Unit multiplier'], axis=1)\n",
    "\n",
    "#check that correct columns were dropped\n",
    "OECD_cleaned.head(10)"
   ]
  },
  {
   "cell_type": "code",
   "execution_count": 15,
   "metadata": {},
   "outputs": [
    {
     "name": "stdout",
     "output_type": "stream",
     "text": [
      "Range of TIME_PERIOD: 2000 to 2012\n",
      "['Slovak Republic' 'Iceland' 'Sweden' 'Austria' 'France' 'Colombia'\n",
      " 'Estonia' 'United Kingdom' 'Korea' 'Italy' 'Netherlands' 'Brazil'\n",
      " 'Indonesia' 'United States' 'Czechia' 'Australia' 'Luxembourg' 'Canada'\n",
      " 'Denmark' 'South Africa' 'Ireland' 'Costa Rica' 'India' 'Lithuania'\n",
      " 'Hungary' 'Türkiye' 'Belgium' 'Spain' 'Russia' 'Latvia' 'Switzerland'\n",
      " 'Portugal' 'Finland' 'Poland' 'Greece' 'Israel' 'Mexico' 'Slovenia'\n",
      " 'China (People’s Republic of)' 'New Zealand' 'Japan' 'Chile' 'Germany'\n",
      " 'Norway']\n",
      "['Malignant neoplasms of female breast'\n",
      " 'Malignant neoplasms of trachea, bronchus, lung' 'Malignant neoplasms'\n",
      " 'Malignant neoplasms of colon, rectum and anus'\n",
      " 'Malignant neoplasms of cervix uteri' 'Malignant neoplasms of prostate']\n"
     ]
    }
   ],
   "source": [
    "#determine the range of time covered\n",
    "\n",
    "time_period_values = OECD_cleaned['TIME_PERIOD'].unique()\n",
    "min_time_period = min(time_period_values)\n",
    "max_time_period = max(time_period_values)\n",
    "\n",
    "#The countires included\n",
    "\n",
    "countries = OECD_cleaned['Reference area'].unique()\n",
    "\n",
    "#Types of cancer\n",
    "\n",
    "cancers = OECD_cleaned['Cancer site'].unique()\n",
    "\n",
    "#print resluts\n",
    "\n",
    "print(f\"Range of TIME_PERIOD: {min_time_period} to {max_time_period}\")\n",
    "print(countries)\n",
    "print(cancers)"
   ]
  },
  {
   "cell_type": "markdown",
   "metadata": {},
   "source": [
    "### Keep only total rows, sex specific cancer rows will have 'sex' field updated to say 'Total'"
   ]
  },
  {
   "cell_type": "code",
   "execution_count": 26,
   "metadata": {},
   "outputs": [
    {
     "name": "stdout",
     "output_type": "stream",
     "text": [
      "       Reference area    Sex                                     Cancer site  \\\n",
      "0     Slovak Republic  Total            Malignant neoplasms of female breast   \n",
      "1     Slovak Republic  Total            Malignant neoplasms of female breast   \n",
      "2     Slovak Republic  Total            Malignant neoplasms of female breast   \n",
      "3             Iceland   Male  Malignant neoplasms of trachea, bronchus, lung   \n",
      "4             Iceland   Male  Malignant neoplasms of trachea, bronchus, lung   \n",
      "...               ...    ...                                             ...   \n",
      "1483      New Zealand  Total  Malignant neoplasms of trachea, bronchus, lung   \n",
      "1484      Netherlands  Total   Malignant neoplasms of colon, rectum and anus   \n",
      "1485      Netherlands  Total   Malignant neoplasms of colon, rectum and anus   \n",
      "1486      Netherlands  Total   Malignant neoplasms of colon, rectum and anus   \n",
      "1487      Netherlands  Total   Malignant neoplasms of colon, rectum and anus   \n",
      "\n",
      "      TIME_PERIOD  OBS_VALUE  \n",
      "0            2002       48.0  \n",
      "1            2008       53.4  \n",
      "2            2012       57.5  \n",
      "3            2002       30.0  \n",
      "4            2008       29.3  \n",
      "...           ...        ...  \n",
      "1483         2012       25.9  \n",
      "1484         2000       36.0  \n",
      "1485         2002       35.9  \n",
      "1486         2008       36.6  \n",
      "1487         2012       40.2  \n",
      "\n",
      "[1488 rows x 5 columns]\n"
     ]
    }
   ],
   "source": [
    "\n",
    "\n",
    "# Update fields in the \"Sex\" column to say \"Total\" for the sex specific cancers\n",
    "OECD_cleaned.loc[OECD_cleaned['Cancer site'] == 'Malignant neoplasms of prostate', 'Sex'] = 'Total'\n",
    "OECD_cleaned.loc[OECD_cleaned['Cancer site'] == 'Malignant neoplasms of female breast', 'Sex'] = 'Total'\n",
    "OECD_cleaned.loc[OECD_cleaned['Cancer site'] == 'Malignant neoplasms of cervix uteri', 'Sex'] = 'Total'\n",
    "# Print the updated DataFrame\n",
    "print(OECD_cleaned)\n"
   ]
  },
  {
   "cell_type": "markdown",
   "metadata": {},
   "source": [
    "### Keep only rows that are totals "
   ]
  },
  {
   "cell_type": "code",
   "execution_count": 28,
   "metadata": {},
   "outputs": [
    {
     "name": "stdout",
     "output_type": "stream",
     "text": [
      "       Reference area    Sex                                     Cancer site  \\\n",
      "0     Slovak Republic  Total            Malignant neoplasms of female breast   \n",
      "1     Slovak Republic  Total            Malignant neoplasms of female breast   \n",
      "2     Slovak Republic  Total            Malignant neoplasms of female breast   \n",
      "6              Sweden  Total            Malignant neoplasms of female breast   \n",
      "7              Sweden  Total            Malignant neoplasms of female breast   \n",
      "...               ...    ...                                             ...   \n",
      "1483      New Zealand  Total  Malignant neoplasms of trachea, bronchus, lung   \n",
      "1484      Netherlands  Total   Malignant neoplasms of colon, rectum and anus   \n",
      "1485      Netherlands  Total   Malignant neoplasms of colon, rectum and anus   \n",
      "1486      Netherlands  Total   Malignant neoplasms of colon, rectum and anus   \n",
      "1487      Netherlands  Total   Malignant neoplasms of colon, rectum and anus   \n",
      "\n",
      "      TIME_PERIOD  OBS_VALUE  \n",
      "0            2002       48.0  \n",
      "1            2008       53.4  \n",
      "2            2012       57.5  \n",
      "6            2000       81.0  \n",
      "7            2002       87.8  \n",
      "...           ...        ...  \n",
      "1483         2012       25.9  \n",
      "1484         2000       36.0  \n",
      "1485         2002       35.9  \n",
      "1486         2008       36.6  \n",
      "1487         2012       40.2  \n",
      "\n",
      "[744 rows x 5 columns]\n"
     ]
    }
   ],
   "source": [
    "OECD_filtered = OECD_cleaned[OECD_cleaned['Sex'] == 'Total']\n",
    "\n",
    "print(OECD_filtered)"
   ]
  },
  {
   "cell_type": "code",
   "execution_count": 29,
   "metadata": {},
   "outputs": [
    {
     "name": "stdout",
     "output_type": "stream",
     "text": [
      "     Reference area  TIME_PERIOD  count\n",
      "0         Australia         2002      6\n",
      "1         Australia         2008      6\n",
      "2         Australia         2012      6\n",
      "3           Austria         2000      6\n",
      "4           Austria         2002      6\n",
      "..              ...          ...    ...\n",
      "119  United Kingdom         2008      6\n",
      "120  United Kingdom         2012      6\n",
      "121   United States         2002      6\n",
      "122   United States         2008      6\n",
      "123   United States         2012      6\n",
      "\n",
      "[124 rows x 3 columns]\n"
     ]
    }
   ],
   "source": [
    "# countries that that are missing too many years will have to be excluded for the model\n",
    "# determine the number of entries per country per year\n",
    "\n",
    "\n",
    "# Group the DataFrame by 'Reference area' and 'TIME_PERIOD', and count the number of entries for each group\n",
    "entries_per_country_per_year = OECD_filtered.groupby(['Reference area', 'TIME_PERIOD']).size().reset_index(name='count')\n",
    "\n",
    "# Print the result\n",
    "print(entries_per_country_per_year)\n"
   ]
  }
 ],
 "metadata": {
  "kernelspec": {
   "display_name": "Python 3",
   "language": "python",
   "name": "python3"
  },
  "language_info": {
   "codemirror_mode": {
    "name": "ipython",
    "version": 3
   },
   "file_extension": ".py",
   "mimetype": "text/x-python",
   "name": "python",
   "nbconvert_exporter": "python",
   "pygments_lexer": "ipython3",
   "version": "3.12.1"
  }
 },
 "nbformat": 4,
 "nbformat_minor": 2
}
