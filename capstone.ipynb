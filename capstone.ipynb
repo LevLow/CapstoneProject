{
 "cells": [
  {
   "cell_type": "markdown",
   "metadata": {},
   "source": [
    "# Capstone Project OECD Cancer Data and Machine Learning"
   ]
  },
  {
   "cell_type": "markdown",
   "metadata": {},
   "source": [
    "### Import Necessary Libraries"
   ]
  },
  {
   "cell_type": "code",
   "execution_count": 63,
   "metadata": {},
   "outputs": [],
   "source": [
    "import pandas as pd\n",
    "import numpy as np"
   ]
  },
  {
   "cell_type": "markdown",
   "metadata": {},
   "source": [
    "### Read CSV and Determine Column Names for Cleaning"
   ]
  },
  {
   "cell_type": "code",
   "execution_count": 64,
   "metadata": {},
   "outputs": [
    {
     "name": "stdout",
     "output_type": "stream",
     "text": [
      "Index(['STRUCTURE', 'STRUCTURE_ID', 'STRUCTURE_NAME', 'ACTION', 'REF_AREA',\n",
      "       'Reference area', 'FREQ', 'Frequency of observation', 'MEASURE',\n",
      "       'Measure', 'UNIT_MEASURE', 'Unit of measure', 'AGE', 'Age', 'SEX',\n",
      "       'Sex', 'SOCIO_ECON_STATUS', 'Socio-economic status', 'DEATH_CAUSE',\n",
      "       'Cause of death', 'CALC_METHODOLOGY', 'Calculation methodology',\n",
      "       'GESTATION_THRESHOLD', 'Gestation period threshold', 'HEALTH_STATUS',\n",
      "       'Health status', 'DISEASE', 'Disease', 'CANCER_SITE', 'Cancer site',\n",
      "       'TIME_PERIOD', 'Time period', 'OBS_VALUE', 'Observation value',\n",
      "       'DECIMALS', 'Decimals', 'OBS_STATUS', 'Observation status',\n",
      "       'OBS_STATUS2', 'Observation status 2', 'OBS_STATUS3',\n",
      "       'Observation status 3', 'UNIT_MULT', 'Unit multiplier'],\n",
      "      dtype='object')\n"
     ]
    }
   ],
   "source": [
    "OECD = pd.read_csv('OECDHEALTHDATA.csv')\n",
    "\n",
    "print(OECD.columns)"
   ]
  },
  {
   "cell_type": "markdown",
   "metadata": {},
   "source": [
    "### Drop unecessary columns"
   ]
  },
  {
   "cell_type": "code",
   "execution_count": 65,
   "metadata": {},
   "outputs": [
    {
     "data": {
      "text/html": [
       "<div>\n",
       "<style scoped>\n",
       "    .dataframe tbody tr th:only-of-type {\n",
       "        vertical-align: middle;\n",
       "    }\n",
       "\n",
       "    .dataframe tbody tr th {\n",
       "        vertical-align: top;\n",
       "    }\n",
       "\n",
       "    .dataframe thead th {\n",
       "        text-align: right;\n",
       "    }\n",
       "</style>\n",
       "<table border=\"1\" class=\"dataframe\">\n",
       "  <thead>\n",
       "    <tr style=\"text-align: right;\">\n",
       "      <th></th>\n",
       "      <th>Country</th>\n",
       "      <th>Sex</th>\n",
       "      <th>Cancer site</th>\n",
       "      <th>Year</th>\n",
       "      <th>Cancer Rate</th>\n",
       "    </tr>\n",
       "  </thead>\n",
       "  <tbody>\n",
       "    <tr>\n",
       "      <th>0</th>\n",
       "      <td>Slovak Republic</td>\n",
       "      <td>Female</td>\n",
       "      <td>Malignant neoplasms of female breast</td>\n",
       "      <td>2002</td>\n",
       "      <td>48.0</td>\n",
       "    </tr>\n",
       "    <tr>\n",
       "      <th>1</th>\n",
       "      <td>Slovak Republic</td>\n",
       "      <td>Female</td>\n",
       "      <td>Malignant neoplasms of female breast</td>\n",
       "      <td>2008</td>\n",
       "      <td>53.4</td>\n",
       "    </tr>\n",
       "    <tr>\n",
       "      <th>2</th>\n",
       "      <td>Slovak Republic</td>\n",
       "      <td>Female</td>\n",
       "      <td>Malignant neoplasms of female breast</td>\n",
       "      <td>2012</td>\n",
       "      <td>57.5</td>\n",
       "    </tr>\n",
       "    <tr>\n",
       "      <th>3</th>\n",
       "      <td>Iceland</td>\n",
       "      <td>Male</td>\n",
       "      <td>Malignant neoplasms of trachea, bronchus, lung</td>\n",
       "      <td>2002</td>\n",
       "      <td>30.0</td>\n",
       "    </tr>\n",
       "    <tr>\n",
       "      <th>4</th>\n",
       "      <td>Iceland</td>\n",
       "      <td>Male</td>\n",
       "      <td>Malignant neoplasms of trachea, bronchus, lung</td>\n",
       "      <td>2008</td>\n",
       "      <td>29.3</td>\n",
       "    </tr>\n",
       "    <tr>\n",
       "      <th>5</th>\n",
       "      <td>Iceland</td>\n",
       "      <td>Male</td>\n",
       "      <td>Malignant neoplasms of trachea, bronchus, lung</td>\n",
       "      <td>2012</td>\n",
       "      <td>31.0</td>\n",
       "    </tr>\n",
       "    <tr>\n",
       "      <th>6</th>\n",
       "      <td>Sweden</td>\n",
       "      <td>Female</td>\n",
       "      <td>Malignant neoplasms of female breast</td>\n",
       "      <td>2000</td>\n",
       "      <td>81.0</td>\n",
       "    </tr>\n",
       "    <tr>\n",
       "      <th>7</th>\n",
       "      <td>Sweden</td>\n",
       "      <td>Female</td>\n",
       "      <td>Malignant neoplasms of female breast</td>\n",
       "      <td>2002</td>\n",
       "      <td>87.8</td>\n",
       "    </tr>\n",
       "    <tr>\n",
       "      <th>8</th>\n",
       "      <td>Sweden</td>\n",
       "      <td>Female</td>\n",
       "      <td>Malignant neoplasms of female breast</td>\n",
       "      <td>2008</td>\n",
       "      <td>82.7</td>\n",
       "    </tr>\n",
       "    <tr>\n",
       "      <th>9</th>\n",
       "      <td>Sweden</td>\n",
       "      <td>Female</td>\n",
       "      <td>Malignant neoplasms of female breast</td>\n",
       "      <td>2012</td>\n",
       "      <td>80.4</td>\n",
       "    </tr>\n",
       "  </tbody>\n",
       "</table>\n",
       "</div>"
      ],
      "text/plain": [
       "           Country     Sex                                     Cancer site  \\\n",
       "0  Slovak Republic  Female            Malignant neoplasms of female breast   \n",
       "1  Slovak Republic  Female            Malignant neoplasms of female breast   \n",
       "2  Slovak Republic  Female            Malignant neoplasms of female breast   \n",
       "3          Iceland    Male  Malignant neoplasms of trachea, bronchus, lung   \n",
       "4          Iceland    Male  Malignant neoplasms of trachea, bronchus, lung   \n",
       "5          Iceland    Male  Malignant neoplasms of trachea, bronchus, lung   \n",
       "6           Sweden  Female            Malignant neoplasms of female breast   \n",
       "7           Sweden  Female            Malignant neoplasms of female breast   \n",
       "8           Sweden  Female            Malignant neoplasms of female breast   \n",
       "9           Sweden  Female            Malignant neoplasms of female breast   \n",
       "\n",
       "   Year  Cancer Rate  \n",
       "0  2002         48.0  \n",
       "1  2008         53.4  \n",
       "2  2012         57.5  \n",
       "3  2002         30.0  \n",
       "4  2008         29.3  \n",
       "5  2012         31.0  \n",
       "6  2000         81.0  \n",
       "7  2002         87.8  \n",
       "8  2008         82.7  \n",
       "9  2012         80.4  "
      ]
     },
     "execution_count": 65,
     "metadata": {},
     "output_type": "execute_result"
    }
   ],
   "source": [
    "# drop features\n",
    "OECD_cleaned = OECD.drop(['STRUCTURE', 'STRUCTURE_ID', 'STRUCTURE_NAME', 'ACTION', 'REF_AREA', 'FREQ', 'Frequency of observation', 'MEASURE',\n",
    "       'Measure', 'UNIT_MEASURE', 'Unit of measure', 'AGE', 'Age', 'SEX', 'SOCIO_ECON_STATUS', 'Socio-economic status', 'DEATH_CAUSE',\n",
    "       'Cause of death', 'CALC_METHODOLOGY', 'Calculation methodology',\n",
    "       'GESTATION_THRESHOLD', 'Gestation period threshold', 'HEALTH_STATUS',\n",
    "       'Health status', 'DISEASE', 'Disease', 'CANCER_SITE','Time period', 'Observation value',\n",
    "       'DECIMALS', 'Decimals', 'OBS_STATUS', 'Observation status',\n",
    "       'OBS_STATUS2', 'Observation status 2', 'OBS_STATUS3',\n",
    "       'Observation status 3', 'UNIT_MULT', 'Unit multiplier'], axis=1)\n",
    "\n",
    "# rename features\n",
    "OECD_cleaned = OECD_cleaned.rename(columns={'OBS_VALUE' : 'Cancer Rate', 'TIME_PERIOD' : 'Year', 'Reference area' : 'Country'})\n",
    "\n",
    "\n",
    "# Print the result\n",
    "\n",
    "#check that correct columns were dropped\n",
    "OECD_cleaned.head(10)"
   ]
  },
  {
   "cell_type": "code",
   "execution_count": 66,
   "metadata": {},
   "outputs": [
    {
     "name": "stdout",
     "output_type": "stream",
     "text": [
      "Range of Years: 2000 to 2012\n",
      "['Slovak Republic' 'Iceland' 'Sweden' 'Austria' 'France' 'Colombia'\n",
      " 'Estonia' 'United Kingdom' 'Korea' 'Italy' 'Netherlands' 'Brazil'\n",
      " 'Indonesia' 'United States' 'Czechia' 'Australia' 'Luxembourg' 'Canada'\n",
      " 'Denmark' 'South Africa' 'Ireland' 'Costa Rica' 'India' 'Lithuania'\n",
      " 'Hungary' 'Türkiye' 'Belgium' 'Spain' 'Russia' 'Latvia' 'Switzerland'\n",
      " 'Portugal' 'Finland' 'Poland' 'Greece' 'Israel' 'Mexico' 'Slovenia'\n",
      " 'China (People’s Republic of)' 'New Zealand' 'Japan' 'Chile' 'Germany'\n",
      " 'Norway']\n",
      "['Malignant neoplasms of female breast'\n",
      " 'Malignant neoplasms of trachea, bronchus, lung' 'Malignant neoplasms'\n",
      " 'Malignant neoplasms of colon, rectum and anus'\n",
      " 'Malignant neoplasms of cervix uteri' 'Malignant neoplasms of prostate']\n"
     ]
    }
   ],
   "source": [
    "#determine the range of time covered\n",
    "\n",
    "year_values = OECD_cleaned['Year'].unique()\n",
    "min_year = min(year_values)\n",
    "max_year = max(year_values)\n",
    "\n",
    "#The countires included\n",
    "\n",
    "countries = OECD_cleaned['Country'].unique()\n",
    "\n",
    "#Types of cancer\n",
    "\n",
    "cancers = OECD_cleaned['Cancer site'].unique()\n",
    "\n",
    "#print resluts\n",
    "\n",
    "print(f\"Range of Years: {min_year} to {max_year}\")\n",
    "print(countries)\n",
    "print(cancers)"
   ]
  },
  {
   "cell_type": "markdown",
   "metadata": {},
   "source": [
    "### Keep only total rows, sex specific cancer rows will have 'sex' field updated to say 'Total'"
   ]
  },
  {
   "cell_type": "code",
   "execution_count": 67,
   "metadata": {},
   "outputs": [
    {
     "name": "stdout",
     "output_type": "stream",
     "text": [
      "              Country    Sex                                     Cancer site  \\\n",
      "0     Slovak Republic  Total            Malignant neoplasms of female breast   \n",
      "1     Slovak Republic  Total            Malignant neoplasms of female breast   \n",
      "2     Slovak Republic  Total            Malignant neoplasms of female breast   \n",
      "3             Iceland   Male  Malignant neoplasms of trachea, bronchus, lung   \n",
      "4             Iceland   Male  Malignant neoplasms of trachea, bronchus, lung   \n",
      "...               ...    ...                                             ...   \n",
      "1483      New Zealand  Total  Malignant neoplasms of trachea, bronchus, lung   \n",
      "1484      Netherlands  Total   Malignant neoplasms of colon, rectum and anus   \n",
      "1485      Netherlands  Total   Malignant neoplasms of colon, rectum and anus   \n",
      "1486      Netherlands  Total   Malignant neoplasms of colon, rectum and anus   \n",
      "1487      Netherlands  Total   Malignant neoplasms of colon, rectum and anus   \n",
      "\n",
      "      Year  Cancer Rate  \n",
      "0     2002         48.0  \n",
      "1     2008         53.4  \n",
      "2     2012         57.5  \n",
      "3     2002         30.0  \n",
      "4     2008         29.3  \n",
      "...    ...          ...  \n",
      "1483  2012         25.9  \n",
      "1484  2000         36.0  \n",
      "1485  2002         35.9  \n",
      "1486  2008         36.6  \n",
      "1487  2012         40.2  \n",
      "\n",
      "[1488 rows x 5 columns]\n"
     ]
    }
   ],
   "source": [
    "\n",
    "\n",
    "# Update fields in the \"Sex\" column to say \"Total\" for the sex specific cancers\n",
    "OECD_cleaned.loc[OECD_cleaned['Cancer site'] == 'Malignant neoplasms of prostate', 'Sex'] = 'Total'\n",
    "OECD_cleaned.loc[OECD_cleaned['Cancer site'] == 'Malignant neoplasms of female breast', 'Sex'] = 'Total'\n",
    "OECD_cleaned.loc[OECD_cleaned['Cancer site'] == 'Malignant neoplasms of cervix uteri', 'Sex'] = 'Total'\n",
    "# Print the updated DataFrame\n",
    "print(OECD_cleaned)\n"
   ]
  },
  {
   "cell_type": "markdown",
   "metadata": {},
   "source": [
    "### Keep only rows that are totals "
   ]
  },
  {
   "cell_type": "code",
   "execution_count": 68,
   "metadata": {},
   "outputs": [
    {
     "name": "stdout",
     "output_type": "stream",
     "text": [
      "              Country    Sex                                     Cancer site  \\\n",
      "0     Slovak Republic  Total            Malignant neoplasms of female breast   \n",
      "1     Slovak Republic  Total            Malignant neoplasms of female breast   \n",
      "2     Slovak Republic  Total            Malignant neoplasms of female breast   \n",
      "6              Sweden  Total            Malignant neoplasms of female breast   \n",
      "7              Sweden  Total            Malignant neoplasms of female breast   \n",
      "...               ...    ...                                             ...   \n",
      "1483      New Zealand  Total  Malignant neoplasms of trachea, bronchus, lung   \n",
      "1484      Netherlands  Total   Malignant neoplasms of colon, rectum and anus   \n",
      "1485      Netherlands  Total   Malignant neoplasms of colon, rectum and anus   \n",
      "1486      Netherlands  Total   Malignant neoplasms of colon, rectum and anus   \n",
      "1487      Netherlands  Total   Malignant neoplasms of colon, rectum and anus   \n",
      "\n",
      "      Year  Cancer Rate  \n",
      "0     2002         48.0  \n",
      "1     2008         53.4  \n",
      "2     2012         57.5  \n",
      "6     2000         81.0  \n",
      "7     2002         87.8  \n",
      "...    ...          ...  \n",
      "1483  2012         25.9  \n",
      "1484  2000         36.0  \n",
      "1485  2002         35.9  \n",
      "1486  2008         36.6  \n",
      "1487  2012         40.2  \n",
      "\n",
      "[744 rows x 5 columns]\n"
     ]
    }
   ],
   "source": [
    "OECD_filtered = OECD_cleaned[OECD_cleaned['Sex'] == 'Total']\n",
    "\n",
    "print(OECD_filtered)"
   ]
  },
  {
   "cell_type": "code",
   "execution_count": 69,
   "metadata": {},
   "outputs": [
    {
     "name": "stdout",
     "output_type": "stream",
     "text": [
      "                         Country  count\n",
      "0                      Australia     18\n",
      "1                        Austria     24\n",
      "2                        Belgium     24\n",
      "3                         Brazil      6\n",
      "4                         Canada     18\n",
      "5                          Chile     12\n",
      "6   China (People’s Republic of)      6\n",
      "7                       Colombia      6\n",
      "8                     Costa Rica      6\n",
      "9                        Czechia     18\n",
      "10                       Denmark     24\n",
      "11                       Estonia     12\n",
      "12                       Finland     24\n",
      "13                        France     24\n",
      "14                       Germany     24\n",
      "15                        Greece     24\n",
      "16                       Hungary     18\n",
      "17                       Iceland     18\n",
      "18                         India      6\n",
      "19                     Indonesia      6\n",
      "20                       Ireland     24\n",
      "21                        Israel     12\n",
      "22                         Italy     24\n",
      "23                         Japan     18\n",
      "24                         Korea     18\n",
      "25                        Latvia      6\n",
      "26                     Lithuania      6\n",
      "27                    Luxembourg     24\n",
      "28                        Mexico     18\n",
      "29                   Netherlands     24\n",
      "30                   New Zealand     18\n",
      "31                        Norway     18\n",
      "32                        Poland     18\n",
      "33                      Portugal     24\n",
      "34                        Russia      6\n",
      "35               Slovak Republic     18\n",
      "36                      Slovenia     12\n",
      "37                  South Africa      6\n",
      "38                         Spain     24\n",
      "39                        Sweden     24\n",
      "40                   Switzerland     24\n",
      "41                       Türkiye     18\n",
      "42                United Kingdom     24\n",
      "43                 United States     18\n"
     ]
    }
   ],
   "source": [
    "# countries that that are missing too many years will have to be excluded for the model\n",
    "# determine the number of entries per country \n",
    "\n",
    "\n",
    "# Group the DataFrame by 'Reference area' and count the number of entries for each group\n",
    "entries_per_country = OECD_filtered.groupby(['Country']).size().reset_index(name='count')\n",
    "\n",
    "# Print the result\n",
    "print(entries_per_country)\n"
   ]
  },
  {
   "cell_type": "code",
   "execution_count": 70,
   "metadata": {},
   "outputs": [
    {
     "data": {
      "text/plain": [
       "<bound method NDFrame.describe of               Country    Sex                                     Cancer site  \\\n",
       "0     Slovak Republic  Total            Malignant neoplasms of female breast   \n",
       "1     Slovak Republic  Total            Malignant neoplasms of female breast   \n",
       "2     Slovak Republic  Total            Malignant neoplasms of female breast   \n",
       "6              Sweden  Total            Malignant neoplasms of female breast   \n",
       "7              Sweden  Total            Malignant neoplasms of female breast   \n",
       "...               ...    ...                                             ...   \n",
       "1483      New Zealand  Total  Malignant neoplasms of trachea, bronchus, lung   \n",
       "1484      Netherlands  Total   Malignant neoplasms of colon, rectum and anus   \n",
       "1485      Netherlands  Total   Malignant neoplasms of colon, rectum and anus   \n",
       "1486      Netherlands  Total   Malignant neoplasms of colon, rectum and anus   \n",
       "1487      Netherlands  Total   Malignant neoplasms of colon, rectum and anus   \n",
       "\n",
       "      Year  Cancer Rate  \n",
       "0     2002         48.0  \n",
       "1     2008         53.4  \n",
       "2     2012         57.5  \n",
       "6     2000         81.0  \n",
       "7     2002         87.8  \n",
       "...    ...          ...  \n",
       "1483  2012         25.9  \n",
       "1484  2000         36.0  \n",
       "1485  2002         35.9  \n",
       "1486  2008         36.6  \n",
       "1487  2012         40.2  \n",
       "\n",
       "[636 rows x 5 columns]>"
      ]
     },
     "execution_count": 70,
     "metadata": {},
     "output_type": "execute_result"
    }
   ],
   "source": [
    "### Drop countries that have less than 18 entries\n",
    "\n",
    "country_entry_counts = OECD_filtered['Country'].value_counts()\n",
    "\n",
    "### Filter out countries with less than 18 entries\n",
    "countries_to_keep = country_entry_counts[country_entry_counts >= 18].index.tolist()\n",
    "OECD_final = OECD_filtered[OECD_filtered['Country'].isin(countries_to_keep)]\n",
    "\n",
    "### Print the result\n",
    "OECD_final.describe"
   ]
  },
  {
   "cell_type": "code",
   "execution_count": 71,
   "metadata": {},
   "outputs": [
    {
     "name": "stdout",
     "output_type": "stream",
     "text": [
      "            Country  count\n",
      "0         Australia     18\n",
      "1           Austria     24\n",
      "2           Belgium     24\n",
      "3            Canada     18\n",
      "4           Czechia     18\n",
      "5           Denmark     24\n",
      "6           Finland     24\n",
      "7            France     24\n",
      "8           Germany     24\n",
      "9            Greece     24\n",
      "10          Hungary     18\n",
      "11          Iceland     18\n",
      "12          Ireland     24\n",
      "13            Italy     24\n",
      "14            Japan     18\n",
      "15            Korea     18\n",
      "16       Luxembourg     24\n",
      "17           Mexico     18\n",
      "18      Netherlands     24\n",
      "19      New Zealand     18\n",
      "20           Norway     18\n",
      "21           Poland     18\n",
      "22         Portugal     24\n",
      "23  Slovak Republic     18\n",
      "24            Spain     24\n",
      "25           Sweden     24\n",
      "26      Switzerland     24\n",
      "27          Türkiye     18\n",
      "28   United Kingdom     24\n",
      "29    United States     18\n"
     ]
    }
   ],
   "source": [
    "#test that correct countries were dropped\n",
    "# Group the DataFrame by 'Reference area' and count the number of entries for each group\n",
    "entries_per_country2 = OECD_final.groupby(['Country']).size().reset_index(name='count')\n",
    "\n",
    "# Print the result\n",
    "print(entries_per_country2)\n"
   ]
  },
  {
   "cell_type": "markdown",
   "metadata": {},
   "source": [
    "### Remove entires for the year 2000"
   ]
  },
  {
   "cell_type": "code",
   "execution_count": 72,
   "metadata": {},
   "outputs": [
    {
     "data": {
      "text/plain": [
       "<bound method NDFrame.describe of               Country    Sex                                     Cancer site  \\\n",
       "0     Slovak Republic  Total            Malignant neoplasms of female breast   \n",
       "1     Slovak Republic  Total            Malignant neoplasms of female breast   \n",
       "2     Slovak Republic  Total            Malignant neoplasms of female breast   \n",
       "7              Sweden  Total            Malignant neoplasms of female breast   \n",
       "8              Sweden  Total            Malignant neoplasms of female breast   \n",
       "...               ...    ...                                             ...   \n",
       "1482      New Zealand  Total  Malignant neoplasms of trachea, bronchus, lung   \n",
       "1483      New Zealand  Total  Malignant neoplasms of trachea, bronchus, lung   \n",
       "1485      Netherlands  Total   Malignant neoplasms of colon, rectum and anus   \n",
       "1486      Netherlands  Total   Malignant neoplasms of colon, rectum and anus   \n",
       "1487      Netherlands  Total   Malignant neoplasms of colon, rectum and anus   \n",
       "\n",
       "      Year  Cancer Rate  \n",
       "0     2002         48.0  \n",
       "1     2008         53.4  \n",
       "2     2012         57.5  \n",
       "7     2002         87.8  \n",
       "8     2008         82.7  \n",
       "...    ...          ...  \n",
       "1482  2008         26.1  \n",
       "1483  2012         25.9  \n",
       "1485  2002         35.9  \n",
       "1486  2008         36.6  \n",
       "1487  2012         40.2  \n",
       "\n",
       "[540 rows x 5 columns]>"
      ]
     },
     "execution_count": 72,
     "metadata": {},
     "output_type": "execute_result"
    }
   ],
   "source": [
    "# Remove all entries for the year 2000\n",
    "OECD_final = OECD_final[OECD_final['Year'] != 2000]\n",
    "\n",
    "# Print the result\n",
    "OECD_final.describe\n"
   ]
  },
  {
   "cell_type": "code",
   "execution_count": 73,
   "metadata": {},
   "outputs": [
    {
     "data": {
      "text/plain": [
       "<bound method NDFrame.describe of               Country                                     Cancer site  Year  \\\n",
       "0     Slovak Republic            Malignant neoplasms of female breast  2002   \n",
       "1     Slovak Republic            Malignant neoplasms of female breast  2008   \n",
       "2     Slovak Republic            Malignant neoplasms of female breast  2012   \n",
       "7              Sweden            Malignant neoplasms of female breast  2002   \n",
       "8              Sweden            Malignant neoplasms of female breast  2008   \n",
       "...               ...                                             ...   ...   \n",
       "1482      New Zealand  Malignant neoplasms of trachea, bronchus, lung  2008   \n",
       "1483      New Zealand  Malignant neoplasms of trachea, bronchus, lung  2012   \n",
       "1485      Netherlands   Malignant neoplasms of colon, rectum and anus  2002   \n",
       "1486      Netherlands   Malignant neoplasms of colon, rectum and anus  2008   \n",
       "1487      Netherlands   Malignant neoplasms of colon, rectum and anus  2012   \n",
       "\n",
       "      Cancer Rate  \n",
       "0            48.0  \n",
       "1            53.4  \n",
       "2            57.5  \n",
       "7            87.8  \n",
       "8            82.7  \n",
       "...           ...  \n",
       "1482         26.1  \n",
       "1483         25.9  \n",
       "1485         35.9  \n",
       "1486         36.6  \n",
       "1487         40.2  \n",
       "\n",
       "[540 rows x 4 columns]>"
      ]
     },
     "execution_count": 73,
     "metadata": {},
     "output_type": "execute_result"
    }
   ],
   "source": [
    "#drop sex feature as no longer necessary\n",
    "OECD_final = OECD_final.drop(['Sex'], axis=1)\n",
    "\n",
    "OECD_final.describe"
   ]
  },
  {
   "cell_type": "markdown",
   "metadata": {},
   "source": [
    "### Export new dataframe to CSV"
   ]
  },
  {
   "cell_type": "code",
   "execution_count": 74,
   "metadata": {},
   "outputs": [],
   "source": [
    "OECD_final.to_csv('OECD_Final.csv', index=False)"
   ]
  }
 ],
 "metadata": {
  "kernelspec": {
   "display_name": "Python 3",
   "language": "python",
   "name": "python3"
  },
  "language_info": {
   "codemirror_mode": {
    "name": "ipython",
    "version": 3
   },
   "file_extension": ".py",
   "mimetype": "text/x-python",
   "name": "python",
   "nbconvert_exporter": "python",
   "pygments_lexer": "ipython3",
   "version": "3.12.1"
  }
 },
 "nbformat": 4,
 "nbformat_minor": 2
}
